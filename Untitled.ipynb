{
 "cells": [
  {
   "cell_type": "code",
   "execution_count": 2,
   "id": "c66d6f94-266e-4931-8248-6c4dfd8ce600",
   "metadata": {},
   "outputs": [],
   "source": [
    "import numpy as np"
   ]
  },
  {
   "cell_type": "markdown",
   "id": "2d86f2b4-9e6d-4e66-9184-4c80e10e04d9",
   "metadata": {},
   "source": [
    "## This is a test"
   ]
  },
  {
   "cell_type": "code",
   "execution_count": 3,
   "id": "e901d19c-8590-47e4-ac4e-457d85882287",
   "metadata": {
    "scrolled": true
   },
   "outputs": [
    {
     "name": "stdout",
     "output_type": "stream",
     "text": [
      "[[4. 4. 4.]\n",
      " [4. 4. 4.]\n",
      " [4. 4. 4.]]\n"
     ]
    }
   ],
   "source": [
    "A = 2 * np.ones((3, 3))\n",
    "print(f\"{A ** 2}\")"
   ]
  },
  {
   "cell_type": "markdown",
   "id": "59b61258-53b0-4695-ac25-e3670c25daff",
   "metadata": {},
   "source": [
    "\\begin{align*}\n",
    "A = 2 \\pi i \\frac{\\nu}{\\int}\n",
    "\\end{align*}"
   ]
  },
  {
   "cell_type": "markdown",
   "id": "f8f3e293-93fd-4263-a40d-2eec4664a5a7",
   "metadata": {},
   "source": [
    "teeest\n"
   ]
  },
  {
   "cell_type": "code",
   "execution_count": 3,
   "id": "8f28af84-999f-4cc9-839f-a496798c2e3b",
   "metadata": {},
   "outputs": [
    {
     "name": "stdout",
     "output_type": "stream",
     "text": [
      "oi\n"
     ]
    }
   ],
   "source": [
    "print('oi')"
   ]
  }
 ],
 "metadata": {
  "kernelspec": {
   "display_name": "Python 3 (ipykernel)",
   "language": "python",
   "name": "python3"
  },
  "language_info": {
   "codemirror_mode": {
    "name": "ipython",
    "version": 3
   },
   "file_extension": ".py",
   "mimetype": "text/x-python",
   "name": "python",
   "nbconvert_exporter": "python",
   "pygments_lexer": "ipython3",
   "version": "3.12.3"
  }
 },
 "nbformat": 4,
 "nbformat_minor": 5
}
