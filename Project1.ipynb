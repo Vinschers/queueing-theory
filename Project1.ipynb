{
 "cells": [
  {
   "cell_type": "code",
   "execution_count": 1,
   "id": "c66d6f94-266e-4931-8248-6c4dfd8ce600",
   "metadata": {},
   "outputs": [],
   "source": [
    "from typing import Union\n",
    "\n",
    "import numpy as np\n",
    "import matplotlib.pyplot as plt"
   ]
  },
  {
   "cell_type": "markdown",
   "id": "2d86f2b4-9e6d-4e66-9184-4c80e10e04d9",
   "metadata": {},
   "source": [
    "## Simulation of Markov chain"
   ]
  },
  {
   "cell_type": "code",
   "execution_count": 2,
   "id": "c7158a68-5ffa-4c6a-b487-00c5a01a0d8c",
   "metadata": {},
   "outputs": [],
   "source": [
    "def sample_exp(lamb, n=1):\n",
    "    U = np.random.rand(n)\n",
    "    return - np.log(U) / lamb\n",
    "\n",
    "\n",
    "def sample_class(p: Union[list, tuple, np.array]=None, n=1):\n",
    "    if p is None:\n",
    "        p = [0.5, 0.5]\n",
    "    if isinstance(p, (list, tuple)):\n",
    "        p = np.array(p)\n",
    "\n",
    "    if np.abs(np.sum(p) - 1) > 1e-10:\n",
    "        raise ValueError(\"Probabilities should add up to 1.\")\n",
    "        \n",
    "    cum_probs = np.cumsum(p).reshape(p.size, 1)\n",
    "    U = np.random.rand(1, n)\n",
    "    return np.argmax(U < cum_probs, axis=0)"
   ]
  },
  {
   "cell_type": "code",
   "execution_count": 3,
   "id": "4535016f-94a9-40c6-8730-48c2c1a9f438",
   "metadata": {},
   "outputs": [],
   "source": [
    "def parse_Q(Q):\n",
    "    diag_Q = np.diagonal(Q)\n",
    "    \n",
    "    lambdas = np.abs(diag_Q)\n",
    "    P = (Q - np.diag(diag_Q)) / lambdas.reshape(N, 1)\n",
    "\n",
    "    return P, lambdas"
   ]
  },
  {
   "cell_type": "code",
   "execution_count": 4,
   "id": "d8fc8072-d7bf-4f8e-8203-860c6bc29f52",
   "metadata": {},
   "outputs": [],
   "source": [
    "def markov_chain(sampler, P, lambdas, max_iters=100):\n",
    "    if isinstance(lambdas, (list, tuple)):\n",
    "        lambdas = np.array(lambdas)\n",
    "    if isinstance(P, (list, tuple)):\n",
    "        P = np.array(P)\n",
    "\n",
    "    x = [sampler()]\n",
    "    T = [0]\n",
    "\n",
    "    for _ in range(max_iters):\n",
    "        last_x = x[-1]\n",
    "        last_T = T[-1]\n",
    "        \n",
    "        epsilon = sample_exp(lambdas[last_x])[0]\n",
    "        \n",
    "        x.append(sample_class(P[last_x])[0])\n",
    "        T.append(last_T + epsilon)\n",
    "        \n",
    "    return np.array(x), np.array(T)"
   ]
  },
  {
   "cell_type": "code",
   "execution_count": 5,
   "id": "283180a7-188f-437f-a0de-db72b2ac759e",
   "metadata": {},
   "outputs": [],
   "source": [
    "N = 60\n",
    "\n",
    "lamb = 0.5\n",
    "mu = 0.5\n",
    "\n",
    "upper_diag = (N - 1) * [lamb]\n",
    "main_diag = [-lamb] + [- (lamb + mu)] + (N - 3) * [- (lamb + 2 * mu)] + [-2*mu]\n",
    "lower_diag = [mu] + (N - 2) * [2 * mu]\n",
    "\n",
    "Q = np.diag(upper_diag, k=1) + np.diag(main_diag) + np.diag(lower_diag, k=-1)"
   ]
  },
  {
   "cell_type": "code",
   "execution_count": 6,
   "id": "88324b02-8934-4b8c-9b85-8b827c2ff390",
   "metadata": {},
   "outputs": [
    {
     "name": "stdout",
     "output_type": "stream",
     "text": [
      "[0 1 2 ... 0 1 2]\n"
     ]
    }
   ],
   "source": [
    "P, lambdas = parse_Q(Q)\n",
    "x, T = markov_chain(lambda: 0, P, lambdas, 1_000)\n",
    "\n",
    "print(x)"
   ]
  }
 ],
 "metadata": {
  "kernelspec": {
   "display_name": "Python 3 (ipykernel)",
   "language": "python",
   "name": "python3"
  },
  "language_info": {
   "codemirror_mode": {
    "name": "ipython",
    "version": 3
   },
   "file_extension": ".py",
   "mimetype": "text/x-python",
   "name": "python",
   "nbconvert_exporter": "python",
   "pygments_lexer": "ipython3",
   "version": "3.12.9"
  }
 },
 "nbformat": 4,
 "nbformat_minor": 5
}
