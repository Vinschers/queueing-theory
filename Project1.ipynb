{
 "cells": [
  {
   "cell_type": "code",
   "execution_count": 1,
   "id": "c66d6f94-266e-4931-8248-6c4dfd8ce600",
   "metadata": {},
   "outputs": [],
   "source": [
    "from typing import Union\n",
    "\n",
    "import numpy as np\n",
    "import matplotlib.pyplot as plt"
   ]
  },
  {
   "cell_type": "markdown",
   "id": "2d86f2b4-9e6d-4e66-9184-4c80e10e04d9",
   "metadata": {},
   "source": [
    "## Simulation of Markov process"
   ]
  },
  {
   "cell_type": "code",
   "execution_count": 2,
   "id": "c7158a68-5ffa-4c6a-b487-00c5a01a0d8c",
   "metadata": {},
   "outputs": [],
   "source": [
    "def sample_exp(lamb, n=1):\n",
    "    U = np.random.rand(n)\n",
    "    return - np.log(U) / lamb\n",
    "\n",
    "\n",
    "def sample_class(p: Union[list, tuple, np.array]=None, n=1):\n",
    "    if p is None:\n",
    "        p = [0.5, 0.5]\n",
    "    if isinstance(p, (list, tuple)):\n",
    "        p = np.array(p)\n",
    "\n",
    "    if np.abs(np.sum(p) - 1) > 1e-10:\n",
    "        raise ValueError(\"Probabilities should add up to 1.\")\n",
    "        \n",
    "    cum_probs = np.cumsum(p).reshape(p.size, 1)\n",
    "    U = np.random.rand(1, n)\n",
    "    return np.argmax(U < cum_probs, axis=0)"
   ]
  },
  {
   "cell_type": "code",
   "execution_count": 3,
   "id": "d8fc8072-d7bf-4f8e-8203-860c6bc29f52",
   "metadata": {},
   "outputs": [],
   "source": [
    "def markov_chain(x0, P, lambdas, max_iters=100):\n",
    "    if isinstance(lambdas, (list, tuple)):\n",
    "        lambdas = np.array(lambdas)\n",
    "    if isinstance(P, (list, tuple)):\n",
    "        P = np.array(P)\n",
    "\n",
    "    x = [x0]\n",
    "    \n",
    "    T = [0]\n",
    "\n",
    "    for _ in range(max_iters):\n",
    "        current_x = x[-1]\n",
    "        epsilon = float(sample_exp(lambdas[current_x])[0])\n",
    "        \n",
    "        T.append(T[-1] + epsilon)\n",
    "        x.append(int(sample_class(P[current_x])[0]))\n",
    "    return x, T"
   ]
  },
  {
   "cell_type": "code",
   "execution_count": 4,
   "id": "283180a7-188f-437f-a0de-db72b2ac759e",
   "metadata": {},
   "outputs": [
    {
     "name": "stdout",
     "output_type": "stream",
     "text": [
      "[0, 1, 2, 3, 2, 1, 0, 1, 0, 1, 0, 1, 2, 3, 2, 1, 0, 1, 0, 1, 0, 1, 0, 1, 2, 1, 2, 3, 2, 3, 2, 1, 2, 3, 2, 1, 2, 3, 2, 3, 2, 1, 0, 1, 0, 1, 2, 1, 0, 1, 2, 3, 2, 1, 2, 1, 0, 1, 2, 1, 0, 1, 0, 1, 0, 1, 0, 1, 0, 1, 2, 1, 0, 1, 2, 3, 2, 1, 0, 1, 0, 1, 2, 1, 2, 1, 2, 3, 2, 1, 2, 3, 2, 3, 2, 3, 2, 3, 2, 1, 2]\n",
      "[0, 0.11684551675228931, 0.1624321213963319, 0.33692258738878655, 0.3378003208408333, 0.36654547685045685, 0.4414289092741934, 0.6354710607140239, 1.1654560939409615, 1.7650938671511223, 2.0382696857767844, 2.710319239381925, 2.839031698230828, 2.855329655229681, 3.0833122284699135, 3.199094307194681, 3.287605021022749, 3.487303995448828, 3.641472484882452, 3.6487116692117265, 4.099961165176155, 4.695755754699563, 4.755691362885048, 4.8184347647644055, 5.001072730717425, 5.262312171628037, 5.357239606362062, 5.740402790218562, 5.909014274494359, 6.050913619728192, 6.055987032602463, 6.453487769662142, 6.517732655440506, 6.558780448747115, 6.883796982916264, 6.907582484834263, 6.979971250476195, 7.178576007871897, 7.4623334764857745, 7.4978357098876005, 7.69804263369107, 7.7581100820401945, 7.885756390733621, 8.347957328182952, 8.395662710907716, 8.531466524687366, 8.783639804649562, 9.023352777180708, 9.099686661457298, 9.245582175427272, 9.348507352637304, 9.447959300263651, 9.527313029082066, 9.56472663160814, 9.988544176424345, 10.103269749186293, 10.261375762744281, 10.35098055266487, 10.384076792382691, 10.574170438450034, 10.574758614944306, 10.682759851099753, 10.980718749309998, 11.070676522102548, 11.239784183188926, 11.73015483919309, 11.904478111461279, 12.239684462405666, 12.445280583618237, 12.56930705487184, 12.74581641860074, 12.764565945345744, 13.211468851204376, 13.329884452293177, 13.390262349529836, 13.413443462702299, 13.543660080732442, 13.556589270773658, 13.820002154747774, 13.8355316749136, 13.845414232314306, 13.897346567890983, 13.941165650606724, 14.006234470314865, 14.247740701505293, 14.386237741345395, 14.496048058800207, 14.987651595427765, 15.70295188684915, 15.874578482536833, 15.90775747325896, 16.04636706645503, 16.49528341693072, 16.5173177295126, 16.550572371203017, 16.615774152551147, 16.627527129696336, 16.631817508503605, 16.63759047394108, 16.71167635430173, 17.000684997817174]\n"
     ]
    }
   ],
   "source": [
    "lamb = 4\n",
    "mu = 2\n",
    "\n",
    "N = 4\n",
    "\n",
    "upper_diag = (N - 1) * [lamb]\n",
    "main_diag = [-lamb] + [- (lamb + mu)] + (N - 3) * [- (lamb + 2 * mu)] + [-2*mu]\n",
    "lower_diag = [mu] + (N - 2) * [2 * mu]\n",
    "\n",
    "Q = np.diag(upper_diag, k=1) + np.diag(main_diag) + np.diag(lower_diag, k=-1)\n",
    "\n",
    "lambdas = np.abs(np.diagonal(Q))\n",
    "P = (Q - np.diag(np.diagonal(Q))) / lambdas.reshape(N, 1)\n",
    "\n",
    "x, T = markov_chain(0, P, lambdas)\n",
    "\n",
    "print(x)\n",
    "print(T)"
   ]
  }
 ],
 "metadata": {
  "kernelspec": {
   "display_name": "Python 3 (ipykernel)",
   "language": "python",
   "name": "python3"
  },
  "language_info": {
   "codemirror_mode": {
    "name": "ipython",
    "version": 3
   },
   "file_extension": ".py",
   "mimetype": "text/x-python",
   "name": "python",
   "nbconvert_exporter": "python",
   "pygments_lexer": "ipython3",
   "version": "3.12.9"
  }
 },
 "nbformat": 4,
 "nbformat_minor": 5
}
