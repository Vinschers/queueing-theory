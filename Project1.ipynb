{
 "cells": [
  {
   "cell_type": "code",
   "execution_count": 1,
   "id": "c66d6f94-266e-4931-8248-6c4dfd8ce600",
   "metadata": {},
   "outputs": [],
   "source": [
    "import numpy as np\n",
    "import matplotlib.pyplot as plt"
   ]
  },
  {
   "cell_type": "markdown",
   "id": "2d86f2b4-9e6d-4e66-9184-4c80e10e04d9",
   "metadata": {},
   "source": [
    "## Simulation of Markov process"
   ]
  },
  {
   "cell_type": "code",
   "execution_count": 2,
   "id": "c7158a68-5ffa-4c6a-b487-00c5a01a0d8c",
   "metadata": {},
   "outputs": [],
   "source": [
    "def rand_exp(lamb, n=1):\n",
    "    U = np.random.rand(n)\n",
    "    return - np.log(U) / lamb\n",
    "\n",
    "\n",
    "def rand_P(p, n=1):\n",
    "    cum_probs = np.cumsum(p).reshape(p.size, 1)\n",
    "    U = np.random.rand(1, n)\n",
    "    return np.argmax(U < cum_probs, axis=0)"
   ]
  }
 ],
 "metadata": {
  "kernelspec": {
   "display_name": "Python 3 (ipykernel)",
   "language": "python",
   "name": "python3"
  },
  "language_info": {
   "codemirror_mode": {
    "name": "ipython",
    "version": 3
   },
   "file_extension": ".py",
   "mimetype": "text/x-python",
   "name": "python",
   "nbconvert_exporter": "python",
   "pygments_lexer": "ipython3",
   "version": "3.12.9"
  }
 },
 "nbformat": 4,
 "nbformat_minor": 5
}
