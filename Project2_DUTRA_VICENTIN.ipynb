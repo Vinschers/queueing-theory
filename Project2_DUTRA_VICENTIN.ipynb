{
 "cells": [
  {
   "cell_type": "markdown",
   "id": "73733c80-d2cd-443b-a697-4182e46f5b78",
   "metadata": {},
   "source": [
    "# Slicing modelisation of 5G networks"
   ]
  },
  {
   "cell_type": "markdown",
   "id": "24eac49e-5997-4c14-a107-1365bafd8b0c",
   "metadata": {},
   "source": [
    "## Importing libraries"
   ]
  },
  {
   "cell_type": "code",
   "execution_count": 1,
   "id": "4bace77f-0ed2-43d9-ad4e-bdfc5ab99046",
   "metadata": {},
   "outputs": [],
   "source": [
    "import numpy as np"
   ]
  },
  {
   "cell_type": "markdown",
   "id": "cf82407b-3f48-4d89-b042-dcafa9f04104",
   "metadata": {},
   "source": [
    "## Part 1"
   ]
  },
  {
   "cell_type": "markdown",
   "id": "27c53155-70c3-4a01-aca5-759ea7c33cef",
   "metadata": {},
   "source": [
    "### Exercise 1"
   ]
  },
  {
   "cell_type": "markdown",
   "id": "f22dc5c9-0728-446c-898a-26af8bc911b1",
   "metadata": {},
   "source": [
    "Let $P(k)$ be the probability of having $k$ clients in a queue $M / M / S / S$.\n",
    "As seen in class, this probability is equal to:\n",
    "$$\n",
    "P(k) = \\frac{\\frac{\\rho^k}{k!}}{\\sum_{j = 0}^S \\frac{\\rho^j}{j!}}.\n",
    "$$\n",
    "\n",
    "Thus, it is clear that $P(k)$ is defined by the following recurrence relation:\n",
    "\n",
    "\\begin{align}\n",
    "P(k) &= \\frac{\\rho}{k} P(k - 1) \\\\\n",
    "&= \\frac{\\rho^2}{k (k - 1)} P(k - 2) \\\\\n",
    "&\\vdots \\\\\n",
    "&= \\frac{\\rho^k}{k!} P(0)\n",
    "\\end{align}\n",
    "\n",
    "So, we have one degree of freedom defined by the value of $P(0)$.\n",
    "Since $\\sum_{k = 0}^S P(k) = 1$, the value of $P(0)$ is simply a normalizing constant, which makes sense when looking at the whole equation above.\n",
    "Therefore, we can compute every $P(k)$ without factorials by simply using the recurrence relation and, after that, normalize all values such that their sum is equal to 1.\n",
    "Moreover, to find the mean number of clients in the system, we can use the expectation formula, i.e.,\n",
    "$$\n",
    "\\mu_N = \\mathbb{E}[P(k)] = \\sum_{k = 0}^S k P(k)\n",
    "$$"
   ]
  },
  {
   "cell_type": "code",
   "execution_count": 2,
   "id": "f2f68089-8e5f-429b-ab61-e29844ea2db6",
   "metadata": {},
   "outputs": [],
   "source": [
    "def client_probs(rho, S):\n",
    "    Pk = [1]\n",
    "    \n",
    "    for k in range(1, S + 1):\n",
    "        prob = (rho / k) * Pk[-1]\n",
    "        Pk.append(prob)\n",
    "\n",
    "    Pk = np.array(Pk)\n",
    "    return Pk / Pk.sum()"
   ]
  },
  {
   "cell_type": "code",
   "execution_count": 3,
   "id": "26056d57-284e-4353-bc52-26bd72750d2b",
   "metadata": {},
   "outputs": [],
   "source": [
    "def mean_number_waiting_customers(arrival_rate, service_rate, nb_of_servers):\n",
    "    rho = arrival_rate / service_rate\n",
    "    S = nb_of_servers\n",
    "\n",
    "    Pk = client_probs(rho, S)\n",
    "    return np.dot(np.arange(S + 1), Pk)"
   ]
  },
  {
   "cell_type": "markdown",
   "id": "722615bc-851b-4a75-9e3a-eb4bcb787ac6",
   "metadata": {},
   "source": [
    "### Exercise 2"
   ]
  },
  {
   "cell_type": "code",
   "execution_count": 4,
   "id": "02b27848-6531-42de-a4d4-aa2a6fa1dd0d",
   "metadata": {},
   "outputs": [],
   "source": [
    "def erlang_b(rho, S):\n",
    "    if S == 0:\n",
    "        return 1\n",
    "        \n",
    "    erlang_inv = 1 + S / (rho * erlang_b(rho, S - 1))\n",
    "    return 1 / erlang_inv"
   ]
  },
  {
   "cell_type": "code",
   "execution_count": 14,
   "id": "81a8234e-c229-43e1-8b4f-80c888c08716",
   "metadata": {},
   "outputs": [
    {
     "name": "stdout",
     "output_type": "stream",
     "text": [
      "True\n"
     ]
    }
   ],
   "source": [
    "S = 4\n",
    "lamb = 6\n",
    "mu = 12\n",
    "\n",
    "rho = lamb / mu\n",
    "\n",
    "# Sanity check\n",
    "print(np.abs(erlang_b(rho, S) - client_probs(rho, S)[S]) < 1e-10)"
   ]
  },
  {
   "cell_type": "code",
   "execution_count": 19,
   "id": "8eaa9c37-7294-49cf-b53b-a464264562ae",
   "metadata": {},
   "outputs": [
    {
     "name": "stdout",
     "output_type": "stream",
     "text": [
      "rho = 0.5, S = 4\n",
      "Erl_B = 0.0016\n",
      "mean clients = 0.4992\n"
     ]
    }
   ],
   "source": [
    "print(f\"{rho = }, {S = }\")\n",
    "print(f\"Erl_B = {erlang_b(rho, S):.4f}\")\n",
    "print(f\"mean clients = {mean_number_waiting_customers(lamb, mu, S):.4f}\")"
   ]
  },
  {
   "cell_type": "markdown",
   "id": "564cab4d-9f1a-4c8f-82e8-e942cd28a624",
   "metadata": {},
   "source": [
    "We notice that the mean number of clients is approximately equal to $\\rho$. This makes sense because in a $M / M / \\infty$, we can find the mean number as exactly $\\rho$ as shown below:\n",
    "\n",
    "\\begin{align}\n",
    "\\lim_{S \\to \\infty} \\mathbb{E}[P(k)] &= \\lim_{S \\to \\infty} \\sum_{k = 0}^S k P(k) \\\\\n",
    "&= \\lim_{S \\to \\infty} \\sum_{k = 0}^S k \\frac{\\rho^k}{k!} P(0) \\\\\n",
    "&= \\lim_{S \\to \\infty} \\rho P(0) \\sum_{k = 1}^S \\frac{\\rho^{k - 1}}{(k - 1)!} \\\\\n",
    "&= \\rho \\lim_{S \\to \\infty} P(0) \\sum_{k = 0}^{S - 1} \\frac{\\rho^{k}}{k!} \\\\\n",
    "&= \\rho \\lim_{S \\to \\infty} \\frac{1}{\\sum_{j = 0}^{S} \\frac{\\rho^{j}}{j!}} \\sum_{k = 0}^{S - 1} \\frac{\\rho^{k}}{k!} \\\\\n",
    "&= \\rho.\n",
    "\\end{align}\n",
    "\n",
    "Since the Erlang-B is very small ($10^{-3}$), our queue behaves like a $M / M / \\infty$ because there is almost no blockage."
   ]
  },
  {
   "cell_type": "code",
   "execution_count": null,
   "id": "d025bd57-72e8-48cd-815e-666e13a9c427",
   "metadata": {},
   "outputs": [],
   "source": []
  }
 ],
 "metadata": {
  "kernelspec": {
   "display_name": "Python 3 (ipykernel)",
   "language": "python",
   "name": "python3"
  },
  "language_info": {
   "codemirror_mode": {
    "name": "ipython",
    "version": 3
   },
   "file_extension": ".py",
   "mimetype": "text/x-python",
   "name": "python",
   "nbconvert_exporter": "python",
   "pygments_lexer": "ipython3",
   "version": "3.12.3"
  }
 },
 "nbformat": 4,
 "nbformat_minor": 5
}
